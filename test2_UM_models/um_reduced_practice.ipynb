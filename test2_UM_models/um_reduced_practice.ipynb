{
 "cells": [
  {
   "cell_type": "code",
   "execution_count": 1,
   "id": "648bd4f1-bad9-482b-a828-597c23de09cf",
   "metadata": {
    "collapsed": true,
    "jupyter": {
     "outputs_hidden": true,
     "source_hidden": true
    },
    "scrolled": true
   },
   "outputs": [
    {
     "name": "stdout",
     "output_type": "stream",
     "text": [
      "Collecting jupytext\n",
      "  Downloading jupytext-1.16.2-py3-none-any.whl.metadata (13 kB)\n",
      "Collecting markdown-it-py>=1.0 (from jupytext)\n",
      "  Downloading markdown_it_py-3.0.0-py3-none-any.whl.metadata (6.9 kB)\n",
      "Collecting mdit-py-plugins (from jupytext)\n",
      "  Downloading mdit_py_plugins-0.4.1-py3-none-any.whl.metadata (2.8 kB)\n",
      "Requirement already satisfied: nbformat in /home/skryubar61/miniconda3/envs/weather/lib/python3.12/site-packages (from jupytext) (5.10.4)\n",
      "Requirement already satisfied: packaging in /home/skryubar61/miniconda3/envs/weather/lib/python3.12/site-packages (from jupytext) (23.2)\n",
      "Requirement already satisfied: pyyaml in /home/skryubar61/miniconda3/envs/weather/lib/python3.12/site-packages (from jupytext) (6.0.1)\n",
      "Collecting mdurl~=0.1 (from markdown-it-py>=1.0->jupytext)\n",
      "  Downloading mdurl-0.1.2-py3-none-any.whl.metadata (1.6 kB)\n",
      "Requirement already satisfied: fastjsonschema>=2.15 in /home/skryubar61/miniconda3/envs/weather/lib/python3.12/site-packages (from nbformat->jupytext) (2.20.0)\n",
      "Requirement already satisfied: jsonschema>=2.6 in /home/skryubar61/miniconda3/envs/weather/lib/python3.12/site-packages (from nbformat->jupytext) (4.22.0)\n",
      "Requirement already satisfied: jupyter-core!=5.0.*,>=4.12 in /home/skryubar61/miniconda3/envs/weather/lib/python3.12/site-packages (from nbformat->jupytext) (5.7.2)\n",
      "Requirement already satisfied: traitlets>=5.1 in /home/skryubar61/miniconda3/envs/weather/lib/python3.12/site-packages (from nbformat->jupytext) (5.14.3)\n",
      "Requirement already satisfied: attrs>=22.2.0 in /home/skryubar61/miniconda3/envs/weather/lib/python3.12/site-packages (from jsonschema>=2.6->nbformat->jupytext) (23.2.0)\n",
      "Requirement already satisfied: jsonschema-specifications>=2023.03.6 in /home/skryubar61/miniconda3/envs/weather/lib/python3.12/site-packages (from jsonschema>=2.6->nbformat->jupytext) (2023.12.1)\n",
      "Requirement already satisfied: referencing>=0.28.4 in /home/skryubar61/miniconda3/envs/weather/lib/python3.12/site-packages (from jsonschema>=2.6->nbformat->jupytext) (0.35.1)\n",
      "Requirement already satisfied: rpds-py>=0.7.1 in /home/skryubar61/miniconda3/envs/weather/lib/python3.12/site-packages (from jsonschema>=2.6->nbformat->jupytext) (0.18.1)\n",
      "Requirement already satisfied: platformdirs>=2.5 in /home/skryubar61/miniconda3/envs/weather/lib/python3.12/site-packages (from jupyter-core!=5.0.*,>=4.12->nbformat->jupytext) (4.2.2)\n",
      "Downloading jupytext-1.16.2-py3-none-any.whl (153 kB)\n",
      "\u001b[2K   \u001b[90m━━━━━━━━━━━━━━━━━━━━━━━━━━━━━━━━━━━━━━━━\u001b[0m \u001b[32m153.2/153.2 kB\u001b[0m \u001b[31m2.0 MB/s\u001b[0m eta \u001b[36m0:00:00\u001b[0ma \u001b[36m0:00:01\u001b[0m\n",
      "\u001b[?25hDownloading markdown_it_py-3.0.0-py3-none-any.whl (87 kB)\n",
      "\u001b[2K   \u001b[90m━━━━━━━━━━━━━━━━━━━━━━━━━━━━━━━━━━━━━━━━\u001b[0m \u001b[32m87.5/87.5 kB\u001b[0m \u001b[31m723.8 kB/s\u001b[0m eta \u001b[36m0:00:00\u001b[0m\u001b[36m0:00:01\u001b[0m\n",
      "\u001b[?25hDownloading mdit_py_plugins-0.4.1-py3-none-any.whl (54 kB)\n",
      "\u001b[2K   \u001b[90m━━━━━━━━━━━━━━━━━━━━━━━━━━━━━━━━━━━━━━━━\u001b[0m \u001b[32m54.8/54.8 kB\u001b[0m \u001b[31m1.3 MB/s\u001b[0m eta \u001b[36m0:00:00\u001b[0ma \u001b[36m0:00:01\u001b[0m\n",
      "\u001b[?25hDownloading mdurl-0.1.2-py3-none-any.whl (10.0 kB)\n",
      "Installing collected packages: mdurl, markdown-it-py, mdit-py-plugins, jupytext\n",
      "Successfully installed jupytext-1.16.2 markdown-it-py-3.0.0 mdit-py-plugins-0.4.1 mdurl-0.1.2\n",
      "Note: you may need to restart the kernel to use updated packages.\n"
     ]
    }
   ],
   "source": [
    "%pip install jupytext\n"
   ]
  },
  {
   "cell_type": "code",
   "execution_count": 1,
   "id": "c48e5150-7201-4ad8-9f26-b65d046a0421",
   "metadata": {
    "collapsed": true,
    "jupyter": {
     "outputs_hidden": true,
     "source_hidden": true
    }
   },
   "outputs": [
    {
     "name": "stdout",
     "output_type": "stream",
     "text": [
      "Traceback (most recent call last):\n",
      "  File \"/home/skryubar61/miniconda3/envs/weather/bin/jupytext\", line 8, in <module>\n",
      "    sys.exit(jupytext())\n",
      "             ^^^^^^^^^^\n",
      "  File \"/home/skryubar61/miniconda3/envs/weather/lib/python3.12/site-packages/jupytext/cli.py\", line 406, in jupytext\n",
      "    raise ValueError(\n",
      "ValueError: Please provide one of --to, --output, --set-formats, --sync, --pipe, --diff, --check, --update-metadata, --format-options, --set-kernel or --execute\n"
     ]
    }
   ],
   "source": [
    "!jupytext to notebook file_reading_temp.py"
   ]
  },
  {
   "cell_type": "code",
   "execution_count": 2,
   "id": "f58dec2e-5187-42fb-9c99-e38734bdf6c9",
   "metadata": {
    "collapsed": true,
    "jupyter": {
     "outputs_hidden": true,
     "source_hidden": true
    }
   },
   "outputs": [
    {
     "name": "stdout",
     "output_type": "stream",
     "text": [
      "Traceback (most recent call last):\n",
      "  File \"/home/skryubar61/miniconda3/envs/weather/bin/jupytext\", line 8, in <module>\n",
      "    sys.exit(jupytext())\n",
      "             ^^^^^^^^^^\n",
      "  File \"/home/skryubar61/miniconda3/envs/weather/lib/python3.12/site-packages/jupytext/cli.py\", line 406, in jupytext\n",
      "    raise ValueError(\n",
      "ValueError: Please provide one of --to, --output, --set-formats, --sync, --pipe, --diff, --check, --update-metadata, --format-options, --set-kernel or --execute\n"
     ]
    }
   ],
   "source": [
    "!jupytext to notebook animated.py\n"
   ]
  },
  {
   "cell_type": "markdown",
   "id": "ceff1106-87de-487c-8228-e4163151fc57",
   "metadata": {},
   "source": [
    "# Practice to Grib Data Explore"
   ]
  },
  {
   "cell_type": "markdown",
   "id": "728293a5-df1c-433b-9102-ed5f4cca3ff3",
   "metadata": {},
   "source": [
    "# File Reading"
   ]
  },
  {
   "cell_type": "code",
   "execution_count": 1,
   "id": "0e2ea84f-d36b-4c68-868d-39de5324c2ee",
   "metadata": {},
   "outputs": [],
   "source": [
    "import requests\n",
    "import cfgrib\n",
    "import os\n",
    "from dotenv import load_dotenv"
   ]
  },
  {
   "cell_type": "markdown",
   "id": "fea020e2-a8e5-4815-9111-ac038e0b39d0",
   "metadata": {},
   "source": [
    "## Loading env from .env"
   ]
  },
  {
   "cell_type": "code",
   "execution_count": 2,
   "id": "0bfb4ea5-0b71-49a8-9352-ea8e9fd1347d",
   "metadata": {},
   "outputs": [
    {
     "data": {
      "text/plain": [
       "True"
      ]
     },
     "execution_count": 2,
     "metadata": {},
     "output_type": "execute_result"
    }
   ],
   "source": [
    "load_dotenv()"
   ]
  },
  {
   "cell_type": "code",
   "execution_count": 3,
   "id": "529dce9a-8fce-4167-8a7f-05b65b62e6e2",
   "metadata": {},
   "outputs": [],
   "source": [
    "api_key = os.getenv('kma_api_key')"
   ]
  },
  {
   "cell_type": "code",
   "execution_count": 4,
   "id": "0c09d52c-aa00-4aa5-a672-bd42c4370041",
   "metadata": {},
   "outputs": [
    {
     "name": "stdout",
     "output_type": "stream",
     "text": [
      "My KMA api_key is: op3tPE72Tf6d7TxO9p3-Eg\n"
     ]
    }
   ],
   "source": [
    "print(f'My KMA api_key is: {api_key}')"
   ]
  },
  {
   "cell_type": "code",
   "execution_count": null,
   "id": "0dc043b4-c477-403c-a0da-4114bebbe72e",
   "metadata": {},
   "outputs": [],
   "source": []
  },
  {
   "cell_type": "code",
   "execution_count": null,
   "id": "7e477057-5f59-49e0-acca-48e79615502c",
   "metadata": {},
   "outputs": [],
   "source": []
  }
 ],
 "metadata": {
  "kernelspec": {
   "display_name": "Python 3 (ipykernel)",
   "language": "python",
   "name": "python3"
  },
  "language_info": {
   "codemirror_mode": {
    "name": "ipython",
    "version": 3
   },
   "file_extension": ".py",
   "mimetype": "text/x-python",
   "name": "python",
   "nbconvert_exporter": "python",
   "pygments_lexer": "ipython3",
   "version": "3.12.2"
  }
 },
 "nbformat": 4,
 "nbformat_minor": 5
}
